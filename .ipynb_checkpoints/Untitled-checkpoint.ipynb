{
 "cells": [
  {
   "cell_type": "code",
   "execution_count": 6,
   "metadata": {},
   "outputs": [],
   "source": [
    "import unicodedata"
   ]
  },
  {
   "cell_type": "code",
   "execution_count": 7,
   "metadata": {},
   "outputs": [],
   "source": [
    "def to_unicode(data):\n",
    "    \n",
    "    if type(data)==str:\n",
    "        data = data\n",
    "        print(type(data))\n",
    "    else:    \n",
    "        try:\n",
    "            data = data.decode('utf-8')\n",
    "        except (UnicodeDecodeError, UnicodeEncodeError):\n",
    "            try:\n",
    "                data = data.decode('iso-8859-1')\n",
    "            except (UnicodeDecodeError, UnicodeEncodeError):\n",
    "                try:\n",
    "                    data = data.decode('latin-1')\n",
    "                except (UnicodeDecodeError, UnicodeEncodeError):\n",
    "                    data = data\n",
    "        \n",
    "    return data"
   ]
  },
  {
   "cell_type": "code",
   "execution_count": 8,
   "metadata": {},
   "outputs": [],
   "source": [
    "def remove_nonlatin(string): \n",
    "    new_chars = []\n",
    "    for char in string:\n",
    "        if char == '\\n':\n",
    "            new_chars.append(' ')\n",
    "            continue\n",
    "        try:\n",
    "            if unicodedata.name(unicode(char)).startswith(('LATIN', 'SPACE')):\n",
    "                new_chars.append(char)\n",
    "        except:\n",
    "            try:\n",
    "                if unicodedata.name(char).startswith(('LATIN', 'SPACE')):\n",
    "                    new_chars.append(char)\n",
    "            except:\n",
    "                continue\n",
    "    return ''.join(new_chars)"
   ]
  },
  {
   "cell_type": "raw",
   "metadata": {},
   "source": [
    "from nltk.corpus import stopwords\n",
    "import nltk"
   ]
  },
  {
   "cell_type": "raw",
   "metadata": {},
   "source": [
    "nltk.download('stopwords')"
   ]
  },
  {
   "cell_type": "code",
   "execution_count": 9,
   "metadata": {},
   "outputs": [],
   "source": [
    "text = 'Minha mãe é: bacana! Viu?!'"
   ]
  },
  {
   "cell_type": "raw",
   "metadata": {},
   "source": [
    "import urllib.request as request\n",
    "import csv\n",
    "stops = request.urlopen('https://raw.githubusercontent.com/stopwords-iso/stopwords-pt/master/stopwords-pt.txt').read().decode('utf8').split(\"\\n\")"
   ]
  },
  {
   "cell_type": "code",
   "execution_count": null,
   "metadata": {},
   "outputs": [],
   "source": []
  },
  {
   "cell_type": "code",
   "execution_count": 4,
   "metadata": {},
   "outputs": [],
   "source": [
    "text = remove_nonlatin(text)"
   ]
  },
  {
   "cell_type": "code",
   "execution_count": 5,
   "metadata": {},
   "outputs": [
    {
     "data": {
      "text/plain": [
       "''"
      ]
     },
     "execution_count": 5,
     "metadata": {},
     "output_type": "execute_result"
    }
   ],
   "source": [
    "text"
   ]
  },
  {
   "cell_type": "code",
   "execution_count": 101,
   "metadata": {},
   "outputs": [],
   "source": [
    "words = text.lower().split()"
   ]
  },
  {
   "cell_type": "code",
   "execution_count": 103,
   "metadata": {},
   "outputs": [],
   "source": [
    "words = ' '.join([w for w in words if not w in stops])"
   ]
  },
  {
   "cell_type": "code",
   "execution_count": 104,
   "metadata": {},
   "outputs": [
    {
     "data": {
      "text/plain": [
       "'mãe bacana viu'"
      ]
     },
     "execution_count": 104,
     "metadata": {},
     "output_type": "execute_result"
    }
   ],
   "source": [
    "words"
   ]
  },
  {
   "cell_type": "code",
   "execution_count": null,
   "metadata": {},
   "outputs": [],
   "source": []
  }
 ],
 "metadata": {
  "kernelspec": {
   "display_name": "Python 3",
   "language": "python",
   "name": "python3"
  },
  "language_info": {
   "codemirror_mode": {
    "name": "ipython",
    "version": 3
   },
   "file_extension": ".py",
   "mimetype": "text/x-python",
   "name": "python",
   "nbconvert_exporter": "python",
   "pygments_lexer": "ipython3",
   "version": "3.6.5"
  }
 },
 "nbformat": 4,
 "nbformat_minor": 2
}
