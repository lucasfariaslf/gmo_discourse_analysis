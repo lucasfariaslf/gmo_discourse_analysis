{
 "cells": [
  {
   "cell_type": "code",
   "execution_count": 68,
   "metadata": {},
   "outputs": [],
   "source": [
    "import csv\n",
    "import requests\n",
    "import os\n",
    "from bs4 import BeautifulSoup\n",
    "\n",
    "from tqdm import tqdm_notebook\n",
    "from IPython.display import clear_output, display"
   ]
  },
  {
   "cell_type": "markdown",
   "metadata": {},
   "source": [
    "## get links"
   ]
  },
  {
   "cell_type": "code",
   "execution_count": 9,
   "metadata": {},
   "outputs": [
    {
     "data": {
      "application/vnd.jupyter.widget-view+json": {
       "model_id": "20e5d11c9e034025a9c0cfa3520cdb86",
       "version_major": 2,
       "version_minor": 0
      },
      "text/plain": [
       "HBox(children=(IntProgress(value=0, max=75), HTML(value='')))"
      ]
     },
     "metadata": {},
     "output_type": "display_data"
    }
   ],
   "source": [
    "npages = 75\n",
    "links = []\n",
    "for page in tqdm_notebook(list(range(1,npages+1))):\n",
    "    link  = 'http://aspta.org.br/category/noticias/page/'+str(page)+'/'\n",
    "#     print(link)\n",
    "    response = requests.get(link)\n",
    "    soup = BeautifulSoup(response.content, 'lxml')\n",
    "#     for a in soup.findAll('div',attrs={'class':'post'}):\n",
    "    h2s = soup.find_all(\"h2\")\n",
    "    for h2 in h2s:\n",
    "        links.append(h2.a['href'])"
   ]
  },
  {
   "cell_type": "code",
   "execution_count": 59,
   "metadata": {},
   "outputs": [],
   "source": [
    "with open('links_aspta.csv', 'w', newline='') as myfile:\n",
    "    wr = csv.writer(myfile, quoting=csv.QUOTE_ALL)\n",
    "    wr.writerow(links)"
   ]
  },
  {
   "cell_type": "markdown",
   "metadata": {},
   "source": [
    "## get texts"
   ]
  },
  {
   "cell_type": "raw",
   "metadata": {},
   "source": [
    "with open('links_aspta.csv', 'r') as f:\n",
    "    reader = csv.reader(f)\n",
    "    your_list = list(reader)"
   ]
  },
  {
   "cell_type": "code",
   "execution_count": 97,
   "metadata": {},
   "outputs": [
    {
     "data": {
      "application/vnd.jupyter.widget-view+json": {
       "model_id": "98acf0e61aff44f497e8e6449d106b6e",
       "version_major": 2,
       "version_minor": 0
      },
      "text/plain": [
       "HBox(children=(IntProgress(value=0, max=743), HTML(value='')))"
      ]
     },
     "metadata": {},
     "output_type": "display_data"
    }
   ],
   "source": [
    "path_to_save = os.getcwd() + '\\\\articles\\\\aspta'\n",
    "\n",
    "if not os.path.exists(path_to_save):\n",
    "    os.makedirs(path_to_save)\n",
    "    \n",
    "for url in tqdm_notebook(links):\n",
    "    page_name = str(url)[len('http://aspta.org.br/2018/12')+1:-1] + '.txt' # naming w head title only\n",
    "    page = requests.get(url)\n",
    "    soup = BeautifulSoup(page.content, 'lxml')\n",
    "    article_text = ''\n",
    "    article = soup.find('div',attrs={\"class\":\"entry-content\"}).findAll('p')\n",
    "    \n",
    "    for element in article:\n",
    "        article_text += str((element.text))\n",
    "        \n",
    "    with open(os.path.join(path_to_save, page_name), 'w', encoding=\"utf-8\") as filehandle:  \n",
    "        filehandle.write(article_text)"
   ]
  },
  {
   "cell_type": "code",
   "execution_count": null,
   "metadata": {},
   "outputs": [],
   "source": []
  }
 ],
 "metadata": {
  "kernelspec": {
   "display_name": "Python 3",
   "language": "python",
   "name": "python3"
  },
  "language_info": {
   "codemirror_mode": {
    "name": "ipython",
    "version": 3
   },
   "file_extension": ".py",
   "mimetype": "text/x-python",
   "name": "python",
   "nbconvert_exporter": "python",
   "pygments_lexer": "ipython3",
   "version": "3.6.5"
  }
 },
 "nbformat": 4,
 "nbformat_minor": 2
}
